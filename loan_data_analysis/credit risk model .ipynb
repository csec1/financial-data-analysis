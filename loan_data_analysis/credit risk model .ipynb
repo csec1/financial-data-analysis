{
 "cells": [
  {
   "cell_type": "markdown",
   "id": "663fe473-4ea9-4798-b5aa-6e44d87b3683",
   "metadata": {},
   "source": [
    "<div style=\"background-color: #d3f9d8; padding: 20px; border-radius: 10px;\">\n",
    "<h2 style=\"color: darkgreen;\">Credit Risk Prediction Model</h2>\n",
    "<p>This project aims to build a predictive model for assessing the risk of loan defaults using machine learning techniques. By analyzing historical loan and customer data, we will develop a logistic regression model to determine the likelihood of default based on key financial indicators.</p>\n",
    "<p>The analysis involves preprocessing the data to handle missing values, performing exploratory data analysis (EDA) to understand relationships between features, and training the model on relevant attributes such as income, loan amount, and credit score. We will evaluate the model's performance using metrics like precision, recall, and F1-score to ensure its effectiveness in risk assessment.</p>\n",
    "<h2 style=\"color: darkgreen;\">Complete code below with piecewise implementation toward the end</h2>\n",
    "</div>\n"
   ]
  },
  {
   "cell_type": "code",
   "execution_count": 16,
   "id": "1563cb7f-b19d-4528-b10f-72edeb8a5a5b",
   "metadata": {},
   "outputs": [
    {
     "name": "stdout",
     "output_type": "stream",
     "text": [
      "[[2 0]\n",
      " [0 1]]\n",
      "              precision    recall  f1-score   support\n",
      "\n",
      "           0       1.00      1.00      1.00         2\n",
      "           1       1.00      1.00      1.00         1\n",
      "\n",
      "    accuracy                           1.00         3\n",
      "   macro avg       1.00      1.00      1.00         3\n",
      "weighted avg       1.00      1.00      1.00         3\n",
      "\n"
     ]
    }
   ],
   "source": [
    "import pandas as pd\n",
    "from sklearn.model_selection import train_test_split\n",
    "from sklearn.linear_model import LogisticRegression\n",
    "from sklearn.metrics import classification_report, confusion_matrix\n",
    "\n",
    "class CreditRiskModel:\n",
    "    def __init__(self, data_file):\n",
    "        \"\"\"Initialize by reading the dataset.\"\"\"\n",
    "        self.data = pd.read_csv(data_file)\n",
    "        self.model = LogisticRegression()\n",
    "\n",
    "    def preprocess_data(self):\n",
    "        \"\"\"Prepare data for model training.\"\"\"\n",
    "        self.data = self.data.dropna()  # Handle missing values\n",
    "        X = self.data[['income', 'loan_amount', 'credit_score']]\n",
    "        y = self.data['default']  # 1 if default, 0 otherwise\n",
    "        self.X_train, self.X_test, self.y_train, self.y_test = train_test_split(X, y, test_size=0.3)\n",
    "\n",
    "    def train_model(self):\n",
    "        \"\"\"Train the logistic regression model.\"\"\"\n",
    "        self.model.fit(self.X_train, self.y_train)\n",
    "\n",
    "    def evaluate_model(self):\n",
    "        \"\"\"Evaluate the model's performance.\"\"\"\n",
    "        predictions = self.model.predict(self.X_test)\n",
    "        print(confusion_matrix(self.y_test, predictions))\n",
    "        print(classification_report(self.y_test, predictions))\n",
    "\n",
    "# Usage\n",
    "if __name__ == '__main__':\n",
    "    \n",
    "    crm = CreditRiskModel('~/python_projects/financial-data-analysis/loan_data_analysis/loan_data.csv')  # Path to the CSV file\n",
    "    crm.preprocess_data()\n",
    "    crm.train_model()\n",
    "    crm.evaluate_model()\n",
    "\n",
    "\n"
   ]
  },
  {
   "cell_type": "markdown",
   "id": "dac2cd40-8c32-4db8-8415-ba9ef3312394",
   "metadata": {},
   "source": [
    "<div style=\"background-color: #d3f9d8; padding: 20px; border-radius: 10px;\">\n",
    "    <h2 style=\"color: black;\">Test data Used in the .csv below, above results</h2>\n",
    "    </div>\n"
   ]
  },
  {
   "cell_type": "raw",
   "id": "8c36bbe8-801b-4580-a48b-a158861845ba",
   "metadata": {},
   "source": [
    "income,loan_amount,credit_score,default\n",
    "55000,15000,700,0\n",
    "60000,20000,720,0\n",
    "45000,10000,680,1\n",
    "75000,30000,740,0\n",
    "50000,25000,650,1\n",
    "80000,35000,780,0\n",
    "30000,5000,600,1\n",
    "90000,20000,800,0\n",
    "65000,15000,710,0\n",
    "40000,3000,620,1\n"
   ]
  },
  {
   "cell_type": "markdown",
   "id": "1392cad4-bc4b-4830-b13f-a56fd6b95d2e",
   "metadata": {},
   "source": [
    "<div style=\"background-color: #ffe6e6; padding: 20px; border-radius: 10px;\">\n",
    "    <h2 style=\"color: black;\">Conclusion and Analysis of Results</h2>\n",
    "    <p>In this project, we successfully developed a credit risk prediction model using logistic regression. The model was trained on historical loan and customer data, focusing on key features such as income, loan amount, and credit score. After preprocessing the data and handling any missing values, we achieved a high accuracy in predicting loan defaults.</p>\n",
    "    <p>The evaluation metrics, including precision, recall, and F1-score, demonstrated that our model effectively distinguishes between default and non-default cases. Although the results indicate strong performance, it is essential to recognize potential limitations such as overfitting, especially if the dataset is small or imbalanced.</p>\n",
    "    <p>Future work could involve enhancing the model by incorporating additional features, such as employment history and economic indicators, as well as exploring more complex algorithms like decision trees or ensemble methods. Continuous monitoring of model performance in real-world scenarios will also be crucial to ensure its reliability over time.</p>\n",
    "</div>\n"
   ]
  },
  {
   "cell_type": "markdown",
   "id": "7f891a7c-e388-4653-b652-a12c3fbdce58",
   "metadata": {},
   "source": [
    "<div style=\"background-color: #d1e7ff; padding: 20px; border-radius: 10px;\">\n",
    "\n",
    "## Definitions of Precision, Recall, and F1-Score\n",
    "\n",
    "### 1. Precision\n",
    "**Definition:** Precision is the ratio of true positive predictions to the total predicted positives. It answers the question: *Of all the instances predicted as positive, how many were actually positive?*\n",
    "\n",
    "**Formula:**  \n",
    "Precision = TP / (TP + FP)  \n",
    "where:  \n",
    "TP = True Positives (correctly predicted positive cases)  \n",
    "FP = False Positives (incorrectly predicted as positive)  \n",
    "\n",
    "### 2. Recall (Sensitivity)\n",
    "**Definition:** Recall, also known as sensitivity or true positive rate, is the ratio of true positive predictions to the total actual positives. It answers the question: *Of all the actual positive instances, how many did we correctly predict?*\n",
    "\n",
    "**Formula:**  \n",
    "Recall = TP / (TP + FN)  \n",
    "where:  \n",
    "FN = False Negatives (actual positive cases incorrectly predicted as negative)  \n",
    "\n",
    "### 3. F1-Score\n",
    "**Definition:** The F1-score is the harmonic mean of precision and recall. It balances the two metrics, making it a good overall measure of a model's performance, especially when you need a balance between precision and recall. It is particularly useful in situations with class imbalance.\n",
    "\n",
    "**Formula:**  \n",
    "F1-Score = 2 * (Precision * Recall) / (Precision + Recall)  \n",
    "\n",
    "### Key Points\n",
    "- **Precision** focuses on the accuracy of positive predictions, important when the cost of false positives is high (e.g., fraud detection).\n",
    "- **Recall** emphasizes the model's ability to find all relevant cases, crucial when the cost of false negatives is high (e.g., disease detection).\n",
    "- **F1-Score** provides a single metric that combines both precision and recall, making it easier to compare different models.\n",
    "\n",
    "### Example\n",
    "If we have a confusion matrix like the following:\n",
    "\n",
    "|                  | Predicted Positive | Predicted Negative |\n",
    "|------------------|-------------------|--------------------|\n",
    "| **Actual Positive** | TP (10)          | FN (2)            |\n",
    "| **Actual Negative** | FP (3)           | TN (15)           |\n",
    "\n",
    "You can calculate:\n",
    "- **Precision:** 10 / (10 + 3) ≈ 0.769 (76.9%)\n",
    "- **Recall:** 10 / (10 + 2) ≈ 0.833 (83.3%)\n",
    "- **F1-Score:** 2 * (0.769 * 0.833) / (0.769 + 0.833) ≈ 0.800 (80.0%)\n",
    "\n",
    "These metrics give us a comprehensive view of our model's performance beyond just accuracy.\n",
    "\n",
    "</div>\n"
   ]
  },
  {
   "cell_type": "code",
   "execution_count": 1,
   "id": "99081e4d-5ce1-4fe2-8a35-c75d9cb1bba3",
   "metadata": {},
   "outputs": [
    {
     "name": "stdout",
     "output_type": "stream",
     "text": [
      "/home/cybersec/python_projects/stock_closing analysis\n"
     ]
    }
   ],
   "source": [
    "import os\n",
    "print(os.getcwd())"
   ]
  },
  {
   "cell_type": "code",
   "execution_count": null,
   "id": "4000c69d-f6e9-4203-bab7-7e1a4b0476a1",
   "metadata": {},
   "outputs": [],
   "source": []
  }
 ],
 "metadata": {
  "kernelspec": {
   "display_name": "Python 3 (ipykernel)",
   "language": "python",
   "name": "python3"
  },
  "language_info": {
   "codemirror_mode": {
    "name": "ipython",
    "version": 3
   },
   "file_extension": ".py",
   "mimetype": "text/x-python",
   "name": "python",
   "nbconvert_exporter": "python",
   "pygments_lexer": "ipython3",
   "version": "3.10.12"
  }
 },
 "nbformat": 4,
 "nbformat_minor": 5
}
