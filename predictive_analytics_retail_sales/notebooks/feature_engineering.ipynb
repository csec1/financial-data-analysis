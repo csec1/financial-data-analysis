{
 "cells": [
  {
   "cell_type": "code",
   "execution_count": 2,
   "id": "6e5cbea5-5e37-4644-854b-ebfe61c43c5e",
   "metadata": {},
   "outputs": [
    {
     "name": "stdout",
     "output_type": "stream",
     "text": [
      "Cleaned data loaded successfully.\n",
      "Creating features...\n",
      "Features created successfully.\n"
     ]
    }
   ],
   "source": [
    "import pandas as pd\n",
    "import os\n",
    "from dotenv import load_dotenv\n",
    "\n",
    "# Load environment variables from .env file\n",
    "load_dotenv()\n",
    "\n",
    "def create_features(data):\n",
    "    \"\"\"Create additional features for the model.\"\"\"\n",
    "    # Convert the 'date' column to datetime if it is not already\n",
    "    if not pd.api.types.is_datetime64_any_dtype(data['date']):\n",
    "        data['date'] = pd.to_datetime(data['date'])\n",
    "    \n",
    "    # Extract features\n",
    "    data['year'] = data['date'].dt.year\n",
    "    data['month'] = data['date'].dt.month\n",
    "    data['day'] = data['date'].dt.day\n",
    "    data['day_of_week'] = data['date'].dt.dayofweek\n",
    "    return data\n",
    "\n",
    "if __name__ == \"__main__\":\n",
    "    # Get the paths from environment variables\n",
    "    cleaned_data_path = os.getenv('CLEANED_DATA_PATH')\n",
    "    feature_data_path = os.getenv('FEATURE_DATA_PATH')\n",
    "\n",
    "    # Load the cleaned data\n",
    "    #print(f\"Loading cleaned data from: {cleaned_data_path}\")\n",
    "    cleaned_data = pd.read_csv(cleaned_data_path)\n",
    "    print(\"Cleaned data loaded successfully.\")\n",
    "    \n",
    "    # Create features\n",
    "    print(\"Creating features...\")\n",
    "    feature_data = create_features(cleaned_data)\n",
    "    print(\"Features created successfully.\")\n",
    "    \n",
    "    # Save the feature data to a new CSV file\n",
    "    feature_data.to_csv(feature_data_path, index=False)\n",
    "    #print(f\"Feature data saved to: {feature_data_path}\")\n"
   ]
  },
  {
   "cell_type": "code",
   "execution_count": null,
   "id": "4df948ba-2618-4de0-b311-b1408df6bf4f",
   "metadata": {},
   "outputs": [],
   "source": []
  }
 ],
 "metadata": {
  "kernelspec": {
   "display_name": "Python 3 (ipykernel)",
   "language": "python",
   "name": "python3"
  },
  "language_info": {
   "codemirror_mode": {
    "name": "ipython",
    "version": 3
   },
   "file_extension": ".py",
   "mimetype": "text/x-python",
   "name": "python",
   "nbconvert_exporter": "python",
   "pygments_lexer": "ipython3",
   "version": "3.10.12"
  }
 },
 "nbformat": 4,
 "nbformat_minor": 5
}
